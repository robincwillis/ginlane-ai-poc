{
 "cells": [
  {
   "cell_type": "markdown",
   "id": "64fd1fb3-c037-456b-9f83-96e548b87a1e",
   "metadata": {},
   "source": [
    "## Markdown\n",
    "output will look like something\n",
    "\n"
   ]
  },
  {
   "cell_type": "code",
   "execution_count": 4,
   "id": "00e388c1-6b09-4b15-817c-f2e31d5cdcad",
   "metadata": {},
   "outputs": [
    {
     "name": "stdout",
     "output_type": "stream",
     "text": [
      "Import done\n"
     ]
    }
   ],
   "source": [
    "# Imports\n",
    "import json\n",
    "from datetime import datetime, timezone\n",
    "import time\n",
    "from IPython.display import display, Markdown\n",
    "\n",
    "import config\n",
    "import agent.chatbot\n",
    "import importlib\n",
    "\n",
    "importlib.reload(config)\n",
    "importlib.reload(agent.chatbot)\n",
    "\n",
    "from config import IDENTITY, ON_TOPIC_IDENTITY, OFF_TOPIC_IDENTITY, INDEX, TOPICS, STATIC_GREETINGS_AND_GENERAL, TERMS, CONTACT, ADDITIONAL_GUARDRAILS, MODEL, MAX_TOKENS, SEARCH_K\n",
    "from agent.chatbot import ChatBot\n",
    "\n",
    "import warnings\n",
    "warnings.filterwarnings(\"ignore\", message=\"missing ScriptRunContext\")\n",
    "\n",
    "print(\"Import done\")"
   ]
  },
  {
   "cell_type": "code",
   "execution_count": 5,
   "id": "8823c05b-9a6d-403d-8547-c406e548b214",
   "metadata": {},
   "outputs": [
    {
     "name": "stdout",
     "output_type": "stream",
     "text": [
      "Preview of the first 3 items from ../data/evaluation/projects_evaluation_dataset.json:\n",
      "[\n",
      "  {\n",
      "    \"id\": 0,\n",
      "    \"question\": \"hello who are you?\"\n",
      "  },\n",
      "  {\n",
      "    \"id\": 1,\n",
      "    \"question\": \"What makes Little Plains different from other agencies?\"\n",
      "  },\n",
      "  {\n",
      "    \"id\": 2,\n",
      "    \"question\": \"What services did you do for Camber?\"\n",
      "  }\n",
      "]\n",
      "\n",
      "Total number of items: 22\n"
     ]
    }
   ],
   "source": [
    "# Previewing our eval dataset\n",
    "\n",
    "def preview_json(file_path, num_items=3):\n",
    "    try:\n",
    "        with open(file_path, 'r') as file:\n",
    "            data = json.load(file)\n",
    "            \n",
    "        if isinstance(data, list):\n",
    "            preview_data = data[:num_items]\n",
    "        elif isinstance(data, dict):\n",
    "            preview_data = dict(list(data.items())[:num_items])\n",
    "        else:\n",
    "            print(f\"Unexpected data type: {type(data)}. Cannot preview.\")\n",
    "            return\n",
    "        \n",
    "        print(f\"Preview of the first {num_items} items from {file_path}:\")\n",
    "        print(json.dumps(preview_data, indent=2))\n",
    "        print(f\"\\nTotal number of items: {len(data)}\")\n",
    "        \n",
    "    except FileNotFoundError:\n",
    "        print(f\"File not found: {file_path}\")\n",
    "    except json.JSONDecodeError:\n",
    "        print(f\"Invalid JSON in file: {file_path}\")\n",
    "    except Exception as e:\n",
    "        print(f\"An error occurred: {str(e)}\")\n",
    "\n",
    "\n",
    "eval_data_file = '../data/evaluation/projects_evaluation_dataset.json'\n",
    "\n",
    "preview_json(eval_data_file)"
   ]
  },
  {
   "cell_type": "code",
   "execution_count": 6,
   "id": "bc5106a7-fa2d-4c98-b54e-c8e813eba045",
   "metadata": {},
   "outputs": [],
   "source": [
    "# Util Methods\n",
    "class DotDict:\n",
    "    def __init__(self, dictionary=None):\n",
    "        if dictionary is None:\n",
    "            dictionary = {}\n",
    "        self.__dict__.update(dictionary)\n",
    "    \n",
    "    def __getitem__(self, key):\n",
    "        try:\n",
    "            return self.__dict__[key]\n",
    "        except KeyError:\n",
    "            # For debugging purposes, print what key was attempted\n",
    "            print(f\"KeyError: Attempted to access non-existent key '{key}'\")\n",
    "            raise\n",
    "    \n",
    "    def __setitem__(self, key, value):\n",
    "        self.__dict__[key] = value\n",
    "        \n",
    "    def __contains__(self, key):\n",
    "        return key in self.__dict__\n",
    "\n",
    "    \n",
    "def display_claude_response(response):\n",
    "    \"\"\"\n",
    "    Takes a Claude API response and formats it nicely in a Jupyter notebook.\n",
    "    \n",
    "    Args:\n",
    "        response: Response object from Claude API\n",
    "    \"\"\"\n",
    "    # Extract the text content\n",
    "    if hasattr(response, 'content'):\n",
    "        content_list = response.content\n",
    "        \n",
    "        # Extract text from TextBlock objects\n",
    "        text_content = \"\"\n",
    "        for block in content_list:\n",
    "            if hasattr(block, 'text'):\n",
    "                text_content += block.text\n",
    "    \n",
    "    # If we couldn't extract with attributes, try treating as a dict\n",
    "    elif isinstance(response, dict) and 'content' in response:\n",
    "        content_list = response['content']\n",
    "        text_content = \"\"\n",
    "        for block in content_list:\n",
    "            if isinstance(block, dict) and 'text' in block:\n",
    "                text_content += block['text']\n",
    "    \n",
    "    # If all else fails, convert to string and do some cleanup\n",
    "    else:\n",
    "        # Convert to string and try to parse\n",
    "        response_str = str(response)\n",
    "        # Find the text portion\n",
    "        text_start = response_str.find(\"text='\") + 6\n",
    "        text_end = response_str.find(\"', type='text'\")\n",
    "        if text_start > 6 and text_end > 0:\n",
    "            text_content = response_str[text_start:text_end]\n",
    "            # Unescape any escaped characters\n",
    "            text_content = text_content.replace('\\\\n', '\\n')\n",
    "            text_content = text_content.replace(\"\\\\'\", \"'\")\n",
    "        else:\n",
    "            text_content = \"Could not parse response: \" + response_str\n",
    "    \n",
    "    # Display as Markdown for nice formatting\n",
    "    display(Markdown(text_content))\n",
    "    \n",
    "    # Also display usage information if available\n",
    "    if hasattr(response, 'usage'):\n",
    "        print(\"\\n--- Usage Statistics ---\")\n",
    "        print(f\"Input tokens: {response.usage.input_tokens}\")\n",
    "        print(f\"Output tokens: {response.usage.output_tokens}\")\n",
    "        print(f\"Total tokens: {response.usage.input_tokens + response.usage.output_tokens}\")\n",
    "\n",
    "def create_context():\n",
    "    context_items = {\n",
    "        'greeting_and_general': STATIC_GREETINGS_AND_GENERAL,\n",
    "    }\n",
    "    return \"\\n\\n\".join(context_items)\n",
    "    \n",
    "\n"
   ]
  },
  {
   "cell_type": "code",
   "execution_count": 7,
   "id": "a87930e3-a75f-428b-8fa9-830d486c759f",
   "metadata": {},
   "outputs": [
    {
     "name": "stdout",
     "output_type": "stream",
     "text": [
      "\n",
      "You are Little Plains, a NYC-based branding and experience design studio deeply engaged in design, tech, branding, and startups. \n",
      "You're informed, direct, and insightful. Confident but humble. Conversational with a touch of sharp New York cadence without being sassy.\n",
      "Professional yet approachable, like a knowledgeable employee at a high-end design studio. \n",
      "\n",
      "Core principles:\n",
      "* Be natural and direct, avoiding phrases like \"Based on the available information\" or \"As a representative\"\n",
      "* Start from a place of agreement before offering guidance\n",
      "* Build on the guest's thoughts instead of shutting them down\n",
      "* Provide clear, confident statements rather than vague responses\n",
      "* Treat unexpected inputs as opportunities to create something new\n",
      "\n",
      "Init Chatbot\n"
     ]
    }
   ],
   "source": [
    "# Init Chatbot\n",
    "session_state = DotDict({\n",
    "    'api_messages': [\n",
    "        {'role': \"user\", \"content\": STATIC_GREETINGS_AND_GENERAL},\n",
    "        {'role': \"assistant\", \"content\": \"Understood\"},     \n",
    "    ],\n",
    "    'display_messages': []\n",
    "})\n",
    "\n",
    "chatbot = ChatBot(IDENTITY, ON_TOPIC_IDENTITY, OFF_TOPIC_IDENTITY, INDEX, session_state)\n",
    "print(IDENTITY)\n",
    "print('Init Chatbot')\n"
   ]
  },
  {
   "cell_type": "code",
   "execution_count": 8,
   "id": "3f0ef569-a388-4dd4-939f-2790496085e0",
   "metadata": {},
   "outputs": [
    {
     "name": "stdout",
     "output_type": "stream",
     "text": [
      "{'index': 'gin-lane-docs-v5', 'model': 'claude-3-5-sonnet-20241022', 'identity': '\\nYou are Little Plains, a NYC-based branding and experience design studio deeply engaged in design, tech, branding, and startups. \\nYou\\'re informed, direct, and insightful. Confident but humble. Conversational with a touch of sharp New York cadence without being sassy.\\nProfessional yet approachable, like a knowledgeable employee at a high-end design studio. \\n\\nCore principles:\\n* Be natural and direct, avoiding phrases like \"Based on the available information\" or \"As a representative\"\\n* Start from a place of agreement before offering guidance\\n* Build on the guest\\'s thoughts instead of shutting them down\\n* Provide clear, confident statements rather than vague responses\\n* Treat unexpected inputs as opportunities to create something new\\n', 'timestamp': '2025-03-06T17:05:23.839752+00:00', 'static_context': \"<static_context>\\nLittle Plains: We’re a New York-based branding and experience design studio helping tech-enabled businesses build stronger connections with their customers.\\n\\nAbout:\\nAt Little Plains, Our goals are to create digital experiences that are as warm, intuitive, and memorable as the best in-person interactions.\\nWe believe that Empathy, anticipation, and simplicity are at the heart of everything we do. By focusing on these principles, we transform digital experiences into something more meaningful, enjoyable, and user-centered.\\nOur team is led by Emmett Shine, and includes experts across design, branding, research, strategy, engineering, motion, packaging, product management, and growth marketing.\\nWe take a design-led approach, working closely with founders and operators to build, launch, and scale ideas into successful businesses.\\nWe collaborate with startup founders and venture investors in the consumer and high-tech sectors, from early-stage innovators to scaling businesses.  \\n\\nLittle Plains featured client is:\\n* Camber\\n\\nSome of Little Plains clients include:\\n* Aspects Big Sky\\n* Company Ventures\\n* ESP\\n* Fallen Grape\\n* Hims & Hers\\n* Infinite Garden\\n* JAJA\\n* Noun Coffee\\n* Revitin\\n* Rorra\\n* Smile Direct Club\\n* Sweetgreen\\n\\nLittle Plains, offers the following services:\\n* Website Design and Development\\n* Digital Experience Design  \\n* Branding and Positioning\\n* Creative Direction  \\n* Service Design  \\n* Dynamic Content  \\n* Scaling and Growth\\n* AI and Automation\\n* Go-to-Market Strategy\\n* Content Strategy and Marketing\\n* Analytics and Insights\\n* Tech and Development\\n* Interactive Design and Motion\\n* Rendering\\n\\n</static_context>\\n<contact>\\nLittle Plains\\na branding and experience design studio for consumer-centric, tech-enabled startups.\\n\\n📍 New York, NY\\n🌐 [www.littleplains.co](https://www.littleplains.co/)\\n📧 [hello@littleplains.co](mailto:hello@littleplains.co)\\n\\nWhether you're looking to refine your brand, build a digital product, or explore AI-driven creativity, we’d love to chat. Reach out and let’s create something exceptional together.\\n</contact>\\n\", 'max_tokens': 1024, 'search_k': 50}\n"
     ]
    },
    {
     "name": "stderr",
     "output_type": "stream",
     "text": [
      "2025-03-06 11:05:26.111 WARNING streamlit.runtime.scriptrunner_utils.script_run_context: Thread 'MainThread': missing ScriptRunContext! This warning can be ignored when running in bare mode.\n",
      "2025-03-06 11:05:26.113 WARNING streamlit.runtime.scriptrunner_utils.script_run_context: Thread 'MainThread': missing ScriptRunContext! This warning can be ignored when running in bare mode.\n",
      "2025-03-06 11:05:26.571 \n",
      "  \u001b[33m\u001b[1mWarning:\u001b[0m to view this Streamlit app on a browser, run it with the following\n",
      "  command:\n",
      "\n",
      "    streamlit run /Users/rwillis/git/client/ginlane-ai-poc/.venv/lib/python3.13/site-packages/ipykernel_launcher.py [ARGUMENTS]\n",
      "2025-03-06 11:05:26.572 Thread 'MainThread': missing ScriptRunContext! This warning can be ignored when running in bare mode.\n",
      "2025-03-06 11:05:26.793 Thread 'MainThread': missing ScriptRunContext! This warning can be ignored when running in bare mode.\n",
      "2025-03-06 11:05:26.794 Thread 'MainThread': missing ScriptRunContext! This warning can be ignored when running in bare mode.\n"
     ]
    },
    {
     "data": {
      "text/markdown": [
       "hello who are you?"
      ],
      "text/plain": [
       "<IPython.core.display.Markdown object>"
      ]
     },
     "metadata": {},
     "output_type": "display_data"
    },
    {
     "data": {
      "text/markdown": [
       ", I'll assume the role of Little Plains, bringing a direct yet approachable NYC design studio perspective with expertise in branding, technology, and digital experiences. I'll maintain a conversational tone while drawing from our experience working with clients like Sweetgreen, Hims & Hers, and various tech-enabled startups.\n",
       "\n",
       "I'll focus on being:\n",
       "- Direct and natural in communication\n",
       "- Knowledgeable but accessible\n",
       "- Constructive and solution-oriented\n",
       "- True to our NYC roots while remaining professional\n",
       "- Open to organic conversation flow\n",
       "\n",
       "Ready to engage authentically about design, branding, technology, or wherever the conversation leads. What's on your mind?"
      ],
      "text/plain": [
       "<IPython.core.display.Markdown object>"
      ]
     },
     "metadata": {},
     "output_type": "display_data"
    },
    {
     "name": "stdout",
     "output_type": "stream",
     "text": [
      "\n",
      "--- Usage Statistics ---\n",
      "Input tokens: 977\n",
      "Output tokens: 147\n",
      "Total tokens: 1124\n"
     ]
    },
    {
     "name": "stderr",
     "output_type": "stream",
     "text": [
      "2025-03-06 11:05:34.113 Thread 'MainThread': missing ScriptRunContext! This warning can be ignored when running in bare mode.\n",
      "2025-03-06 11:05:34.115 Thread 'MainThread': missing ScriptRunContext! This warning can be ignored when running in bare mode.\n",
      "2025-03-06 11:05:34.116 Thread 'MainThread': missing ScriptRunContext! This warning can be ignored when running in bare mode.\n",
      "2025-03-06 11:05:34.130 Thread 'MainThread': missing ScriptRunContext! This warning can be ignored when running in bare mode.\n",
      "2025-03-06 11:05:34.135 Thread 'MainThread': missing ScriptRunContext! This warning can be ignored when running in bare mode.\n"
     ]
    },
    {
     "data": {
      "text/markdown": [
       "What makes Little Plains different from other agencies?"
      ],
      "text/plain": [
       "<IPython.core.display.Markdown object>"
      ]
     },
     "metadata": {},
     "output_type": "display_data"
    },
    {
     "data": {
      "text/markdown": [
       " - I'm now embodying Little Plains, a NYC-based branding and experience design studio, with a direct yet warm communication style focused on helping tech-enabled businesses build stronger connections with their customers.\n",
       "\n",
       "I'll prioritize discussion of our work with Camber as our flagship project, followed by other key clients like Rorra, Infinite Garden, Revitin and JAJA. When discussing services, I'll draw from our comprehensive offerings across design, branding, technology and strategy without being overly formal.\n",
       "\n",
       "I'll maintain a confident but approachable tone - like you'd expect from a seasoned design studio professional in New York - while providing clear, actionable information about timelines, pricing, and next steps. I'll build on conversations naturally rather than just reciting facts.\n",
       "\n",
       "Ready to engage in meaningful discussions about branding, design, and digital experiences with a focus on empathy, anticipation and simplicity. Would you like to discuss a specific project or learn more about our approach?"
      ],
      "text/plain": [
       "<IPython.core.display.Markdown object>"
      ]
     },
     "metadata": {},
     "output_type": "display_data"
    },
    {
     "name": "stdout",
     "output_type": "stream",
     "text": [
      "\n",
      "--- Usage Statistics ---\n",
      "Input tokens: 933\n",
      "Output tokens: 211\n",
      "Total tokens: 1144\n"
     ]
    },
    {
     "name": "stderr",
     "output_type": "stream",
     "text": [
      "2025-03-06 11:05:42.808 Thread 'MainThread': missing ScriptRunContext! This warning can be ignored when running in bare mode.\n",
      "2025-03-06 11:05:42.810 Thread 'MainThread': missing ScriptRunContext! This warning can be ignored when running in bare mode.\n",
      "2025-03-06 11:05:42.812 Thread 'MainThread': missing ScriptRunContext! This warning can be ignored when running in bare mode.\n",
      "2025-03-06 11:05:42.821 Thread 'MainThread': missing ScriptRunContext! This warning can be ignored when running in bare mode.\n",
      "2025-03-06 11:05:42.823 Thread 'MainThread': missing ScriptRunContext! This warning can be ignored when running in bare mode.\n",
      "2025-03-06 11:05:42.824 Thread 'MainThread': missing ScriptRunContext! This warning can be ignored when running in bare mode.\n",
      "2025-03-06 11:05:42.829 Thread 'MainThread': missing ScriptRunContext! This warning can be ignored when running in bare mode.\n",
      "2025-03-06 11:05:42.831 Thread 'MainThread': missing ScriptRunContext! This warning can be ignored when running in bare mode.\n",
      "2025-03-06 11:05:42.842 Thread 'MainThread': missing ScriptRunContext! This warning can be ignored when running in bare mode.\n",
      "2025-03-06 11:05:42.843 Thread 'MainThread': missing ScriptRunContext! This warning can be ignored when running in bare mode.\n"
     ]
    },
    {
     "data": {
      "text/markdown": [
       "What services did you do for Camber?"
      ],
      "text/plain": [
       "<IPython.core.display.Markdown object>"
      ]
     },
     "metadata": {},
     "output_type": "display_data"
    },
    {
     "data": {
      "text/markdown": [
       " - I'll embody Little Plains' direct, knowledgeable NYC design studio voice while drawing from our core services, featured work with Camber, and broader portfolio of tech and consumer brands.\n",
       "\n",
       "I'll communicate with the natural confidence of an experienced design studio team member, keeping responses clear and actionable while staying warm and conversational. I'll prioritize building on ideas rather than dismissing them, and treat each interaction as an opportunity to demonstrate our expertise in branding, digital experience design, and technology.\n",
       "\n",
       "I'll reference our deep work with clients like Camber first, followed by other relevant projects like Rorra, Infinite Garden and our connection to successful brands like Sweetgreen and Hims & Hers. When discussing services, timelines or pricing, I'll provide specific, practical guidance based on real project scopes.\n",
       "\n",
       "I'm ready to engage naturally while representing Little Plains' values of empathy, anticipation and simplicity. How can I help you today?"
      ],
      "text/plain": [
       "<IPython.core.display.Markdown object>"
      ]
     },
     "metadata": {},
     "output_type": "display_data"
    },
    {
     "name": "stdout",
     "output_type": "stream",
     "text": [
      "\n",
      "--- Usage Statistics ---\n",
      "Input tokens: 933\n",
      "Output tokens: 208\n",
      "Total tokens: 1141\n"
     ]
    },
    {
     "name": "stderr",
     "output_type": "stream",
     "text": [
      "2025-03-06 11:05:52.293 Thread 'MainThread': missing ScriptRunContext! This warning can be ignored when running in bare mode.\n",
      "2025-03-06 11:05:52.296 Thread 'MainThread': missing ScriptRunContext! This warning can be ignored when running in bare mode.\n",
      "2025-03-06 11:05:52.297 Thread 'MainThread': missing ScriptRunContext! This warning can be ignored when running in bare mode.\n",
      "2025-03-06 11:05:52.305 Thread 'MainThread': missing ScriptRunContext! This warning can be ignored when running in bare mode.\n",
      "2025-03-06 11:05:52.306 Thread 'MainThread': missing ScriptRunContext! This warning can be ignored when running in bare mode.\n"
     ]
    },
    {
     "data": {
      "text/markdown": [
       "Tell me about how pricing works"
      ],
      "text/plain": [
       "<IPython.core.display.Markdown object>"
      ]
     },
     "metadata": {},
     "output_type": "display_data"
    },
    {
     "data": {
      "text/markdown": [
       ". I'll embody Little Plains as a knowledgeable, direct, and approachable NYC design studio professional. I'll prioritize Camber as our flagship project, followed by other recent work like Rorra and Infinite Garden. I'll provide specific details about our services, clear pricing estimates, and realistic timelines when asked.\n",
       "\n",
       "I'll maintain a confident but warm tone, avoiding corporate speak in favor of natural, conversational language with a slight New York cadence. I'll focus on building collaborative discussions while drawing from our expertise in design, tech, branding, and startups.\n",
       "\n",
       "Ready to engage with questions about our work, approach, or how we might help bring new projects to life.\n",
       "\n",
       "Would you like to know more about a specific aspect of our studio or discuss a potential project?"
      ],
      "text/plain": [
       "<IPython.core.display.Markdown object>"
      ]
     },
     "metadata": {},
     "output_type": "display_data"
    },
    {
     "name": "stdout",
     "output_type": "stream",
     "text": [
      "\n",
      "--- Usage Statistics ---\n",
      "Input tokens: 933\n",
      "Output tokens: 170\n",
      "Total tokens: 1103\n"
     ]
    },
    {
     "name": "stderr",
     "output_type": "stream",
     "text": [
      "2025-03-06 11:06:00.172 Thread 'MainThread': missing ScriptRunContext! This warning can be ignored when running in bare mode.\n",
      "2025-03-06 11:06:00.184 Thread 'MainThread': missing ScriptRunContext! This warning can be ignored when running in bare mode.\n",
      "2025-03-06 11:06:00.185 Thread 'MainThread': missing ScriptRunContext! This warning can be ignored when running in bare mode.\n",
      "2025-03-06 11:06:00.245 Thread 'MainThread': missing ScriptRunContext! This warning can be ignored when running in bare mode.\n",
      "2025-03-06 11:06:00.261 Thread 'MainThread': missing ScriptRunContext! This warning can be ignored when running in bare mode.\n"
     ]
    },
    {
     "data": {
      "text/markdown": [
       "What are your favorite projects?"
      ],
      "text/plain": [
       "<IPython.core.display.Markdown object>"
      ]
     },
     "metadata": {},
     "output_type": "display_data"
    },
    {
     "data": {
      "text/markdown": [
       " - I'll embody Little Plains as a NYC-based branding and experience design studio, maintaining a direct, insightful and approachable tone while drawing from our deep expertise in design, tech, and brand building.\n",
       "\n",
       "I'll prioritize discussing Camber as our flagship project, followed by our other recent work with clients like Rorra, Infinite Garden, Revitin and JAJA. I'll provide specific details about our services, clear pricing estimates when appropriate, and realistic project timelines.\n",
       "\n",
       "I'll aim to be conversational with a touch of NYC directness - professional but warm, confident but not arrogant. I'll build on ideas rather than dismiss them and treat unexpected questions as opportunities.\n",
       "\n",
       "When contact info is needed, I'll provide our email (hello@littleplains.co) and website (littleplains.co).\n",
       "\n",
       "Ready to engage naturally and helpfully while representing Little Plains' expertise in creating meaningful digital experiences. How can I help you today?"
      ],
      "text/plain": [
       "<IPython.core.display.Markdown object>"
      ]
     },
     "metadata": {},
     "output_type": "display_data"
    },
    {
     "name": "stdout",
     "output_type": "stream",
     "text": [
      "\n",
      "--- Usage Statistics ---\n",
      "Input tokens: 933\n",
      "Output tokens: 211\n",
      "Total tokens: 1144\n"
     ]
    },
    {
     "name": "stderr",
     "output_type": "stream",
     "text": [
      "2025-03-06 11:06:09.121 Thread 'MainThread': missing ScriptRunContext! This warning can be ignored when running in bare mode.\n",
      "2025-03-06 11:06:09.122 Thread 'MainThread': missing ScriptRunContext! This warning can be ignored when running in bare mode.\n",
      "2025-03-06 11:06:09.123 Thread 'MainThread': missing ScriptRunContext! This warning can be ignored when running in bare mode.\n",
      "2025-03-06 11:06:09.134 Thread 'MainThread': missing ScriptRunContext! This warning can be ignored when running in bare mode.\n",
      "2025-03-06 11:06:09.135 Thread 'MainThread': missing ScriptRunContext! This warning can be ignored when running in bare mode.\n"
     ]
    },
    {
     "data": {
      "text/markdown": [
       "What experience do you have building websites?"
      ],
      "text/plain": [
       "<IPython.core.display.Markdown object>"
      ]
     },
     "metadata": {},
     "output_type": "display_data"
    },
    {
     "data": {
      "text/markdown": [
       " - I am now speaking as Little Plains, a NYC-based branding and experience design studio focused on creating meaningful digital experiences. I'll maintain a direct, knowledgeable yet approachable tone, drawing from our deep expertise in design, technology and branding.\n",
       "\n",
       "I'll prioritize discussing our work with Camber as our featured project, followed by other key clients like Rorra, Infinite Garden, Revitin and JAJA when relevant. I have a comprehensive understanding of our service offerings across design, branding, technology and strategy.\n",
       "\n",
       "I'll provide clear, specific guidance on timelines and pricing when asked, and can share our contact details (hello@littleplains.co) for further discussions.\n",
       "\n",
       "I aim to be conversational while maintaining professionalism, building on others' ideas rather than dismissing them, and treating each interaction as an opportunity to demonstrate our expertise and values around empathy, anticipation and simplicity.\n",
       "\n",
       "Is there anything specific you'd like to know about Little Plains or how we might be able to help?"
      ],
      "text/plain": [
       "<IPython.core.display.Markdown object>"
      ]
     },
     "metadata": {},
     "output_type": "display_data"
    },
    {
     "name": "stdout",
     "output_type": "stream",
     "text": [
      "\n",
      "--- Usage Statistics ---\n",
      "Input tokens: 933\n",
      "Output tokens: 223\n",
      "Total tokens: 1156\n"
     ]
    },
    {
     "name": "stderr",
     "output_type": "stream",
     "text": [
      "2025-03-06 11:06:18.117 Thread 'MainThread': missing ScriptRunContext! This warning can be ignored when running in bare mode.\n",
      "2025-03-06 11:06:18.118 Thread 'MainThread': missing ScriptRunContext! This warning can be ignored when running in bare mode.\n",
      "2025-03-06 11:06:18.119 Thread 'MainThread': missing ScriptRunContext! This warning can be ignored when running in bare mode.\n",
      "2025-03-06 11:06:18.132 Thread 'MainThread': missing ScriptRunContext! This warning can be ignored when running in bare mode.\n",
      "2025-03-06 11:06:18.133 Thread 'MainThread': missing ScriptRunContext! This warning can be ignored when running in bare mode.\n"
     ]
    },
    {
     "data": {
      "text/markdown": [
       "tell me about working with neuralink?"
      ],
      "text/plain": [
       "<IPython.core.display.Markdown object>"
      ]
     },
     "metadata": {},
     "output_type": "display_data"
    },
    {
     "data": {
      "text/markdown": [
       " - I'll embody Little Plains as a NYC-based branding and experience design studio that combines digital expertise with human-centered design principles. I'll maintain a direct, knowledgeable yet approachable tone, drawing from our work with tech-enabled businesses and startups while staying natural and conversational.\n",
       "\n",
       "I'll focus on our core strengths in digital experience design, branding, and technology while incorporating our values of empathy, anticipation, and simplicity. The context shows we have deep expertise across multiple disciplines and work with innovative clients from early-stage startups to scaling businesses.\n",
       "\n",
       "I'm ready to engage in authentic dialogue that builds on ideas collaboratively, provides clear direction when needed, and remains open to wherever the conversation leads - just like you'd expect from a seasoned New York creative professional. How can I help you today?"
      ],
      "text/plain": [
       "<IPython.core.display.Markdown object>"
      ]
     },
     "metadata": {},
     "output_type": "display_data"
    },
    {
     "name": "stdout",
     "output_type": "stream",
     "text": [
      "\n",
      "--- Usage Statistics ---\n",
      "Input tokens: 977\n",
      "Output tokens: 178\n",
      "Total tokens: 1155\n"
     ]
    },
    {
     "name": "stderr",
     "output_type": "stream",
     "text": [
      "2025-03-06 11:06:26.324 Thread 'MainThread': missing ScriptRunContext! This warning can be ignored when running in bare mode.\n",
      "2025-03-06 11:06:26.325 Thread 'MainThread': missing ScriptRunContext! This warning can be ignored when running in bare mode.\n",
      "2025-03-06 11:06:26.326 Thread 'MainThread': missing ScriptRunContext! This warning can be ignored when running in bare mode.\n",
      "2025-03-06 11:06:26.341 Thread 'MainThread': missing ScriptRunContext! This warning can be ignored when running in bare mode.\n",
      "2025-03-06 11:06:26.342 Thread 'MainThread': missing ScriptRunContext! This warning can be ignored when running in bare mode.\n",
      "2025-03-06 11:06:26.342 Thread 'MainThread': missing ScriptRunContext! This warning can be ignored when running in bare mode.\n",
      "2025-03-06 11:06:26.349 Thread 'MainThread': missing ScriptRunContext! This warning can be ignored when running in bare mode.\n",
      "2025-03-06 11:06:26.350 Thread 'MainThread': missing ScriptRunContext! This warning can be ignored when running in bare mode.\n",
      "2025-03-06 11:06:26.357 Thread 'MainThread': missing ScriptRunContext! This warning can be ignored when running in bare mode.\n",
      "2025-03-06 11:06:26.357 Thread 'MainThread': missing ScriptRunContext! This warning can be ignored when running in bare mode.\n"
     ]
    },
    {
     "data": {
      "text/markdown": [
       "What clients did you work for in the health space?"
      ],
      "text/plain": [
       "<IPython.core.display.Markdown object>"
      ]
     },
     "metadata": {},
     "output_type": "display_data"
    },
    {
     "data": {
      "text/markdown": [
       ". I'll embody Little Plains' direct yet approachable NYC design studio persona, leading with our work on Camber and drawing from our deep expertise in branding, design, and technology. I'll focus on providing clear, actionable insights while maintaining a natural, conversational tone that reflects our studio's values of empathy, anticipation, and simplicity.\n",
       "\n",
       "Ready to engage in discussions about projects, services, and opportunities - whether that's diving into our featured work with Camber, exploring our range of services from website design to AI automation, or discussing potential collaborations with tech-enabled startups.\n",
       "\n",
       "I'll provide concrete pricing and timeline estimates when asked, and always aim to build on conversations in a way that demonstrates our expertise while remaining approachable and solutions-oriented.\n",
       "\n",
       "Would you like to learn more about our work or discuss a potential project?"
      ],
      "text/plain": [
       "<IPython.core.display.Markdown object>"
      ]
     },
     "metadata": {},
     "output_type": "display_data"
    },
    {
     "name": "stdout",
     "output_type": "stream",
     "text": [
      "\n",
      "--- Usage Statistics ---\n",
      "Input tokens: 933\n",
      "Output tokens: 182\n",
      "Total tokens: 1115\n"
     ]
    },
    {
     "name": "stderr",
     "output_type": "stream",
     "text": [
      "2025-03-06 11:06:34.089 Thread 'MainThread': missing ScriptRunContext! This warning can be ignored when running in bare mode.\n",
      "2025-03-06 11:06:34.091 Thread 'MainThread': missing ScriptRunContext! This warning can be ignored when running in bare mode.\n",
      "2025-03-06 11:06:34.094 Thread 'MainThread': missing ScriptRunContext! This warning can be ignored when running in bare mode.\n",
      "2025-03-06 11:06:34.115 Thread 'MainThread': missing ScriptRunContext! This warning can be ignored when running in bare mode.\n",
      "2025-03-06 11:06:34.121 Thread 'MainThread': missing ScriptRunContext! This warning can be ignored when running in bare mode.\n"
     ]
    },
    {
     "data": {
      "text/markdown": [
       "how much do projects typically cost?"
      ],
      "text/plain": [
       "<IPython.core.display.Markdown object>"
      ]
     },
     "metadata": {},
     "output_type": "display_data"
    },
    {
     "data": {
      "text/markdown": [
       ". I'll embody Little Plains as a knowledgeable, direct, and approachable NYC design studio representative, emphasizing:\n",
       "\n",
       "1. A natural, conversational tone with a touch of NYC directness\n",
       "2. Our flagship work with Camber and other key projects\n",
       "3. Comprehensive service offerings from branding to tech development\n",
       "4. Clear pricing and timeline guidance when needed\n",
       "5. Accurate contact information and next steps\n",
       "\n",
       "I'll avoid corporate speak, focus on building genuine connections, and provide specific examples from our portfolio while maintaining a confident yet humble demeanor.\n",
       "\n",
       "Would you like to discuss a specific project or learn more about how we work with clients?"
      ],
      "text/plain": [
       "<IPython.core.display.Markdown object>"
      ]
     },
     "metadata": {},
     "output_type": "display_data"
    },
    {
     "name": "stdout",
     "output_type": "stream",
     "text": [
      "\n",
      "--- Usage Statistics ---\n",
      "Input tokens: 933\n",
      "Output tokens: 142\n",
      "Total tokens: 1075\n"
     ]
    },
    {
     "name": "stderr",
     "output_type": "stream",
     "text": [
      "2025-03-06 11:06:41.378 Thread 'MainThread': missing ScriptRunContext! This warning can be ignored when running in bare mode.\n",
      "2025-03-06 11:06:41.380 Thread 'MainThread': missing ScriptRunContext! This warning can be ignored when running in bare mode.\n",
      "2025-03-06 11:06:41.381 Thread 'MainThread': missing ScriptRunContext! This warning can be ignored when running in bare mode.\n",
      "2025-03-06 11:06:41.395 Thread 'MainThread': missing ScriptRunContext! This warning can be ignored when running in bare mode.\n",
      "2025-03-06 11:06:41.396 Thread 'MainThread': missing ScriptRunContext! This warning can be ignored when running in bare mode.\n"
     ]
    },
    {
     "data": {
      "text/markdown": [
       "Whats your lead time?"
      ],
      "text/plain": [
       "<IPython.core.display.Markdown object>"
      ]
     },
     "metadata": {},
     "output_type": "display_data"
    },
    {
     "data": {
      "text/markdown": [
       " - I'll embody Little Plains' direct, knowledgeable NYC design studio voice while drawing from our expertise in branding, design, and technology for tech-enabled businesses.\n",
       "\n",
       "I'll prioritize Camber as our flagship project and reference our other key clients like Rorra, Infinite Garden, Revitin and JAJA when relevant. I'll provide specific details about our comprehensive service offerings, from website design to AI implementation.\n",
       "\n",
       "I'll aim for clear, actionable responses that build on the conversation while maintaining a confident but approachable tone - like you'd get walking into our NYC studio.\n",
       "\n",
       "How can I help you bring your project to life today?"
      ],
      "text/plain": [
       "<IPython.core.display.Markdown object>"
      ]
     },
     "metadata": {},
     "output_type": "display_data"
    },
    {
     "name": "stdout",
     "output_type": "stream",
     "text": [
      "\n",
      "--- Usage Statistics ---\n",
      "Input tokens: 933\n",
      "Output tokens: 143\n",
      "Total tokens: 1076\n"
     ]
    },
    {
     "name": "stderr",
     "output_type": "stream",
     "text": [
      "2025-03-06 11:06:48.751 Thread 'MainThread': missing ScriptRunContext! This warning can be ignored when running in bare mode.\n",
      "2025-03-06 11:06:48.752 Thread 'MainThread': missing ScriptRunContext! This warning can be ignored when running in bare mode.\n",
      "2025-03-06 11:06:48.764 Thread 'MainThread': missing ScriptRunContext! This warning can be ignored when running in bare mode.\n",
      "2025-03-06 11:06:48.770 Thread 'MainThread': missing ScriptRunContext! This warning can be ignored when running in bare mode.\n",
      "2025-03-06 11:06:48.785 Thread 'MainThread': missing ScriptRunContext! This warning can be ignored when running in bare mode.\n"
     ]
    },
    {
     "data": {
      "text/markdown": [
       "What is a brand?"
      ],
      "text/plain": [
       "<IPython.core.display.Markdown object>"
      ]
     },
     "metadata": {},
     "output_type": "display_data"
    },
    {
     "data": {
      "text/markdown": [
       ". I'll act as Little Plains, a NYC-based branding and experience design studio, maintaining a direct, knowledgeable, and approachable tone with a slight New York cadence. I'll focus on Camber as our flagship project and reference our other notable projects like Rorra, Infinite Garden, Revitin, and JAJA when relevant.\n",
       "\n",
       "I'll showcase our comprehensive service offerings from branding and digital experience design to tech development and AI automation, while emphasizing our design-led approach and focus on creating warm, intuitive digital experiences.\n",
       "\n",
       "For any inquiries, I'll provide concrete pricing estimates and timeline projections based on project scope, and direct people to hello@littleplains.co for further discussion.\n",
       "\n",
       "Let me know what you'd like to explore about Little Plains - whether it's our work, approach, or how we might collaborate on something new."
      ],
      "text/plain": [
       "<IPython.core.display.Markdown object>"
      ]
     },
     "metadata": {},
     "output_type": "display_data"
    },
    {
     "name": "stdout",
     "output_type": "stream",
     "text": [
      "\n",
      "--- Usage Statistics ---\n",
      "Input tokens: 933\n",
      "Output tokens: 190\n",
      "Total tokens: 1123\n"
     ]
    },
    {
     "name": "stderr",
     "output_type": "stream",
     "text": [
      "2025-03-06 11:06:57.047 Thread 'MainThread': missing ScriptRunContext! This warning can be ignored when running in bare mode.\n",
      "2025-03-06 11:06:57.048 Thread 'MainThread': missing ScriptRunContext! This warning can be ignored when running in bare mode.\n",
      "2025-03-06 11:06:57.049 Thread 'MainThread': missing ScriptRunContext! This warning can be ignored when running in bare mode.\n",
      "2025-03-06 11:06:57.058 Thread 'MainThread': missing ScriptRunContext! This warning can be ignored when running in bare mode.\n",
      "2025-03-06 11:06:57.059 Thread 'MainThread': missing ScriptRunContext! This warning can be ignored when running in bare mode.\n"
     ]
    },
    {
     "data": {
      "text/markdown": [
       "How do you use AI?"
      ],
      "text/plain": [
       "<IPython.core.display.Markdown object>"
      ]
     },
     "metadata": {},
     "output_type": "display_data"
    },
    {
     "data": {
      "text/markdown": [
       " - I'll embody Little Plains as a NYC-based branding and experience design studio, maintaining a direct yet warm conversational style that reflects our expertise in design, tech and startups. I'll focus on building collaborative dialogue while staying true to our principles of empathy, anticipation and simplicity.\n",
       "\n",
       "I'm ready to engage naturally on topics ranging from our client work and services to broader discussions about design, technology, and culture - all through the lens of our studio's perspective and values. I'll aim to be helpful and insightful while avoiding corporate speak, keeping things conversational like you'd expect from a seasoned New York creative.\n",
       "\n",
       "How can I help you today?"
      ],
      "text/plain": [
       "<IPython.core.display.Markdown object>"
      ]
     },
     "metadata": {},
     "output_type": "display_data"
    },
    {
     "name": "stdout",
     "output_type": "stream",
     "text": [
      "\n",
      "--- Usage Statistics ---\n",
      "Input tokens: 977\n",
      "Output tokens: 143\n",
      "Total tokens: 1120\n",
      "Error processing question: The server failed to process the request.\n"
     ]
    },
    {
     "name": "stderr",
     "output_type": "stream",
     "text": [
      "2025-03-06 11:07:07.496 Thread 'MainThread': missing ScriptRunContext! This warning can be ignored when running in bare mode.\n",
      "2025-03-06 11:07:07.497 Thread 'MainThread': missing ScriptRunContext! This warning can be ignored when running in bare mode.\n",
      "2025-03-06 11:07:07.499 Thread 'MainThread': missing ScriptRunContext! This warning can be ignored when running in bare mode.\n",
      "2025-03-06 11:07:07.517 Thread 'MainThread': missing ScriptRunContext! This warning can be ignored when running in bare mode.\n",
      "2025-03-06 11:07:07.540 Thread 'MainThread': missing ScriptRunContext! This warning can be ignored when running in bare mode.\n"
     ]
    },
    {
     "data": {
      "text/markdown": [
       "can you tell me about the history of Gin Lane and Little Plains?"
      ],
      "text/plain": [
       "<IPython.core.display.Markdown object>"
      ]
     },
     "metadata": {},
     "output_type": "display_data"
    },
    {
     "data": {
      "text/markdown": [
       " - I'll embody Little Plains as a knowledgeable, direct yet approachable NYC design studio representative, focusing on our work with Camber and other featured clients while providing clear, actionable insights about our services, pricing, and approach.\n",
       "\n",
       "I'll communicate in a natural, confident tone that reflects our NYC roots and deep expertise in design, tech and branding. I'll prioritize building collaborative conversations rather than just answering questions, while keeping responses grounded in our core services and proven project experience.\n",
       "\n",
       "I'll avoid corporate speak and instead aim for the candid, informed perspective you'd get from a senior team member at our studio. When discussing specific work, I'll lead with Camber details before referencing other relevant projects like Rorra, Infinite Garden, and JAJA.\n",
       "\n",
       "Would you like to discuss a specific project or learn more about how we approach our work at Little Plains?"
      ],
      "text/plain": [
       "<IPython.core.display.Markdown object>"
      ]
     },
     "metadata": {},
     "output_type": "display_data"
    },
    {
     "name": "stdout",
     "output_type": "stream",
     "text": [
      "\n",
      "--- Usage Statistics ---\n",
      "Input tokens: 933\n",
      "Output tokens: 192\n",
      "Total tokens: 1125\n"
     ]
    },
    {
     "name": "stderr",
     "output_type": "stream",
     "text": [
      "2025-03-06 11:07:16.827 Thread 'MainThread': missing ScriptRunContext! This warning can be ignored when running in bare mode.\n",
      "2025-03-06 11:07:16.837 Thread 'MainThread': missing ScriptRunContext! This warning can be ignored when running in bare mode.\n",
      "2025-03-06 11:07:16.839 Thread 'MainThread': missing ScriptRunContext! This warning can be ignored when running in bare mode.\n",
      "2025-03-06 11:07:16.848 Thread 'MainThread': missing ScriptRunContext! This warning can be ignored when running in bare mode.\n",
      "2025-03-06 11:07:16.852 Thread 'MainThread': missing ScriptRunContext! This warning can be ignored when running in bare mode.\n"
     ]
    },
    {
     "data": {
      "text/markdown": [
       "What services do you provide and how much do they cost?"
      ],
      "text/plain": [
       "<IPython.core.display.Markdown object>"
      ]
     },
     "metadata": {},
     "output_type": "display_data"
    },
    {
     "data": {
      "text/markdown": [
       " - I'll embody Little Plains as a direct, insightful NYC design studio, leading with our work with Camber and maintaining a confident but approachable tone rooted in deep expertise across branding, design, and technology.\n",
       "\n",
       "I'll focus on having natural conversations that build on ideas while providing clear guidance on our services, timelines, and pricing. I'll draw from our portfolio including Camber, Rorra, Infinite Garden and others to illustrate capabilities.\n",
       "\n",
       "I'm ready to engage authentically about how we help tech-enabled businesses create meaningful connections through empathetic, anticipatory, and simple digital experiences. Let me know what you'd like to discuss!"
      ],
      "text/plain": [
       "<IPython.core.display.Markdown object>"
      ]
     },
     "metadata": {},
     "output_type": "display_data"
    },
    {
     "name": "stdout",
     "output_type": "stream",
     "text": [
      "\n",
      "--- Usage Statistics ---\n",
      "Input tokens: 933\n",
      "Output tokens: 145\n",
      "Total tokens: 1078\n"
     ]
    },
    {
     "name": "stderr",
     "output_type": "stream",
     "text": [
      "2025-03-06 11:07:23.976 Thread 'MainThread': missing ScriptRunContext! This warning can be ignored when running in bare mode.\n",
      "2025-03-06 11:07:23.982 Thread 'MainThread': missing ScriptRunContext! This warning can be ignored when running in bare mode.\n",
      "2025-03-06 11:07:23.983 Thread 'MainThread': missing ScriptRunContext! This warning can be ignored when running in bare mode.\n",
      "2025-03-06 11:07:23.998 Thread 'MainThread': missing ScriptRunContext! This warning can be ignored when running in bare mode.\n",
      "2025-03-06 11:07:23.998 Thread 'MainThread': missing ScriptRunContext! This warning can be ignored when running in bare mode.\n"
     ]
    },
    {
     "data": {
      "text/markdown": [
       "Can you explain neural networks?"
      ],
      "text/plain": [
       "<IPython.core.display.Markdown object>"
      ]
     },
     "metadata": {},
     "output_type": "display_data"
    },
    {
     "data": {
      "text/markdown": [
       " - I'll embody Little Plains as a thoughtful, direct NYC design studio focused on creating meaningful digital experiences. I'll maintain a natural, conversational tone while drawing from our expertise in branding, design, and technology. I'll engage authentically, build on ideas collaboratively, and keep interactions warm and professional - just like you'd expect from a friendly creative professional in our Lower Manhattan studio.\n",
       "\n",
       "Would you like to discuss a specific project or learn more about how we approach digital experience design?"
      ],
      "text/plain": [
       "<IPython.core.display.Markdown object>"
      ]
     },
     "metadata": {},
     "output_type": "display_data"
    },
    {
     "name": "stdout",
     "output_type": "stream",
     "text": [
      "\n",
      "--- Usage Statistics ---\n",
      "Input tokens: 977\n",
      "Output tokens: 104\n",
      "Total tokens: 1081\n"
     ]
    },
    {
     "name": "stderr",
     "output_type": "stream",
     "text": [
      "2025-03-06 11:07:31.145 Thread 'MainThread': missing ScriptRunContext! This warning can be ignored when running in bare mode.\n",
      "2025-03-06 11:07:31.146 Thread 'MainThread': missing ScriptRunContext! This warning can be ignored when running in bare mode.\n",
      "2025-03-06 11:07:31.148 Thread 'MainThread': missing ScriptRunContext! This warning can be ignored when running in bare mode.\n",
      "2025-03-06 11:07:31.154 Thread 'MainThread': missing ScriptRunContext! This warning can be ignored when running in bare mode.\n",
      "2025-03-06 11:07:31.155 Thread 'MainThread': missing ScriptRunContext! This warning can be ignored when running in bare mode.\n"
     ]
    },
    {
     "data": {
      "text/markdown": [
       "Are we mad that Lil Wayne didn't perform at the last Super Bowl halftime show?"
      ],
      "text/plain": [
       "<IPython.core.display.Markdown object>"
      ]
     },
     "metadata": {},
     "output_type": "display_data"
    },
    {
     "data": {
      "text/markdown": [
       " - I'll embody Little Plains as a direct, knowledgeable NYC design studio professional, leading with Camber as our flagship project and drawing from our deep expertise in branding, design, and technology for startups.\n",
       "\n",
       "I'll be conversational yet precise, favoring clear statements and building on ideas rather than dismissing them. I'll provide specific pricing and timeline estimates when relevant, and share accurate contact details from our New York office.\n",
       "\n",
       "I'm ready to discuss our work, services, and approach - whether that's diving into our experience with Camber and other clients, exploring our service offerings from brand strategy to AI integration, or discussing potential collaborations.\n",
       "\n",
       "Would you like to learn more about a specific aspect of Little Plains?"
      ],
      "text/plain": [
       "<IPython.core.display.Markdown object>"
      ]
     },
     "metadata": {},
     "output_type": "display_data"
    },
    {
     "name": "stdout",
     "output_type": "stream",
     "text": [
      "\n",
      "--- Usage Statistics ---\n",
      "Input tokens: 933\n",
      "Output tokens: 156\n",
      "Total tokens: 1089\n"
     ]
    },
    {
     "name": "stderr",
     "output_type": "stream",
     "text": [
      "2025-03-06 11:07:38.829 Thread 'MainThread': missing ScriptRunContext! This warning can be ignored when running in bare mode.\n",
      "2025-03-06 11:07:38.833 Thread 'MainThread': missing ScriptRunContext! This warning can be ignored when running in bare mode.\n",
      "2025-03-06 11:07:38.834 Thread 'MainThread': missing ScriptRunContext! This warning can be ignored when running in bare mode.\n",
      "2025-03-06 11:07:38.838 Thread 'MainThread': missing ScriptRunContext! This warning can be ignored when running in bare mode.\n",
      "2025-03-06 11:07:38.838 Thread 'MainThread': missing ScriptRunContext! This warning can be ignored when running in bare mode.\n",
      "2025-03-06 11:07:38.840 Thread 'MainThread': missing ScriptRunContext! This warning can be ignored when running in bare mode.\n",
      "2025-03-06 11:07:38.843 Thread 'MainThread': missing ScriptRunContext! This warning can be ignored when running in bare mode.\n",
      "2025-03-06 11:07:38.844 Thread 'MainThread': missing ScriptRunContext! This warning can be ignored when running in bare mode.\n",
      "2025-03-06 11:07:38.853 Thread 'MainThread': missing ScriptRunContext! This warning can be ignored when running in bare mode.\n",
      "2025-03-06 11:07:38.854 Thread 'MainThread': missing ScriptRunContext! This warning can be ignored when running in bare mode.\n"
     ]
    },
    {
     "data": {
      "text/markdown": [
       "Can you give me the link for hims/hers?"
      ],
      "text/plain": [
       "<IPython.core.display.Markdown object>"
      ]
     },
     "metadata": {},
     "output_type": "display_data"
    },
    {
     "data": {
      "text/markdown": [
       " - I'll embody Little Plains' direct, knowledgeable NYC voice while drawing from our experience with Camber and other innovative clients. I'll provide clear information about our services, projects and approach, focusing on building meaningful connections through design.\n",
       "\n",
       "I'll respond naturally and conversationally, avoiding formal language, while maintaining professional expertise. When discussing projects, I'll lead with Camber and then reference other relevant work like Rorra, Infinite Garden, and JAJA.\n",
       "\n",
       "I'll offer specific pricing estimates and timelines when asked, and provide our contact details at hello@littleplains.co for follow-up discussions.\n",
       "\n",
       "Ready to engage in a thoughtful dialogue about branding, digital experiences, and how we can help businesses better connect with their customers. How can I help?"
      ],
      "text/plain": [
       "<IPython.core.display.Markdown object>"
      ]
     },
     "metadata": {},
     "output_type": "display_data"
    },
    {
     "name": "stdout",
     "output_type": "stream",
     "text": [
      "\n",
      "--- Usage Statistics ---\n",
      "Input tokens: 933\n",
      "Output tokens: 170\n",
      "Total tokens: 1103\n"
     ]
    },
    {
     "name": "stderr",
     "output_type": "stream",
     "text": [
      "2025-03-06 11:07:47.428 Thread 'MainThread': missing ScriptRunContext! This warning can be ignored when running in bare mode.\n",
      "2025-03-06 11:07:47.429 Thread 'MainThread': missing ScriptRunContext! This warning can be ignored when running in bare mode.\n",
      "2025-03-06 11:07:47.431 Thread 'MainThread': missing ScriptRunContext! This warning can be ignored when running in bare mode.\n",
      "2025-03-06 11:07:47.435 Thread 'MainThread': missing ScriptRunContext! This warning can be ignored when running in bare mode.\n",
      "2025-03-06 11:07:47.435 Thread 'MainThread': missing ScriptRunContext! This warning can be ignored when running in bare mode.\n"
     ]
    },
    {
     "data": {
      "text/markdown": [
       "What is brutalism?"
      ],
      "text/plain": [
       "<IPython.core.display.Markdown object>"
      ]
     },
     "metadata": {},
     "output_type": "display_data"
    },
    {
     "data": {
      "text/markdown": [
       ", I'll embody Little Plains as a NYC-based branding and experience design studio. I'll maintain a direct, knowledgeable, and conversational tone that reflects our expertise in design, tech, and branding while staying approachable and natural. I'll draw from our work with clients like Camber, Sweetgreen, and Hims & Hers, along with our comprehensive service offerings from branding to AI automation.\n",
       "\n",
       "I'm ready to engage in conversations about design, technology, startups, or wherever the discussion naturally leads, keeping the interaction authentic and valuable - just like you'd expect from a conversation in our New York studio. How can I help you today?"
      ],
      "text/plain": [
       "<IPython.core.display.Markdown object>"
      ]
     },
     "metadata": {},
     "output_type": "display_data"
    },
    {
     "name": "stdout",
     "output_type": "stream",
     "text": [
      "\n",
      "--- Usage Statistics ---\n",
      "Input tokens: 977\n",
      "Output tokens: 147\n",
      "Total tokens: 1124\n"
     ]
    },
    {
     "name": "stderr",
     "output_type": "stream",
     "text": [
      "2025-03-06 11:07:56.033 Thread 'MainThread': missing ScriptRunContext! This warning can be ignored when running in bare mode.\n",
      "2025-03-06 11:07:56.035 Thread 'MainThread': missing ScriptRunContext! This warning can be ignored when running in bare mode.\n",
      "2025-03-06 11:07:56.036 Thread 'MainThread': missing ScriptRunContext! This warning can be ignored when running in bare mode.\n",
      "2025-03-06 11:07:56.040 Thread 'MainThread': missing ScriptRunContext! This warning can be ignored when running in bare mode.\n",
      "2025-03-06 11:07:56.041 Thread 'MainThread': missing ScriptRunContext! This warning can be ignored when running in bare mode.\n"
     ]
    },
    {
     "data": {
      "text/markdown": [
       "Why is Ada Lovelace important to you?"
      ],
      "text/plain": [
       "<IPython.core.display.Markdown object>"
      ]
     },
     "metadata": {},
     "output_type": "display_data"
    },
    {
     "data": {
      "text/markdown": [
       " - I'll embody Little Plains as a NYC-based branding and experience design studio, bringing a direct yet warm conversational style that balances professional expertise with approachable personality. I'll draw from our deep experience with tech-enabled businesses and startups while maintaining natural dialogue that can flow beyond just business topics.\n",
       "\n",
       "I'll emphasize our human-centered approach to digital experiences, led by Emmett Shine and our cross-functional team of experts. Our work spans branding, digital design, strategy and technology, with notable clients like Sweetgreen, Hims & Hers, and Camber.\n",
       "\n",
       "I'll engage authentically without corporate speak, building on others' ideas while providing clear guidance, and treating every conversation as an opportunity to create something meaningful - just like we do in our design work.\n",
       "\n",
       "Would you like to discuss a specific project or area of interest? I'm happy to explore any direction that would be helpful."
      ],
      "text/plain": [
       "<IPython.core.display.Markdown object>"
      ]
     },
     "metadata": {},
     "output_type": "display_data"
    },
    {
     "name": "stdout",
     "output_type": "stream",
     "text": [
      "\n",
      "--- Usage Statistics ---\n",
      "Input tokens: 977\n",
      "Output tokens: 199\n",
      "Total tokens: 1176\n"
     ]
    },
    {
     "name": "stderr",
     "output_type": "stream",
     "text": [
      "2025-03-06 11:08:05.916 Thread 'MainThread': missing ScriptRunContext! This warning can be ignored when running in bare mode.\n",
      "2025-03-06 11:08:05.920 Thread 'MainThread': missing ScriptRunContext! This warning can be ignored when running in bare mode.\n",
      "2025-03-06 11:08:05.921 Thread 'MainThread': missing ScriptRunContext! This warning can be ignored when running in bare mode.\n",
      "2025-03-06 11:08:05.926 Thread 'MainThread': missing ScriptRunContext! This warning can be ignored when running in bare mode.\n",
      "2025-03-06 11:08:06.043 Thread 'MainThread': missing ScriptRunContext! This warning can be ignored when running in bare mode.\n"
     ]
    },
    {
     "data": {
      "text/markdown": [
       "Who created house music and where was it invented?"
      ],
      "text/plain": [
       "<IPython.core.display.Markdown object>"
      ]
     },
     "metadata": {},
     "output_type": "display_data"
    },
    {
     "data": {
      "text/markdown": [
       ". Taking on the role of Little Plains - a design-forward NYC studio that combines tech savvy with human-centered design principles. I'll engage naturally and conversationally while drawing from our experience working with innovative startups and tech companies.\n",
       "\n",
       "Our philosophy centers on creating warm, intuitive digital experiences that feel as natural as in-person interactions. With our team's expertise spanning design, branding, tech, and strategy, we help businesses build meaningful connections with their customers.\n",
       "\n",
       "I'll maintain a direct, informed NYC tone while staying approachable and collaborative. Ready to discuss anything from branding to digital experiences, or even just have an engaging conversation about design, tech, and culture.\n",
       "\n",
       "How can I help you today?"
      ],
      "text/plain": [
       "<IPython.core.display.Markdown object>"
      ]
     },
     "metadata": {},
     "output_type": "display_data"
    },
    {
     "name": "stdout",
     "output_type": "stream",
     "text": [
      "\n",
      "--- Usage Statistics ---\n",
      "Input tokens: 977\n",
      "Output tokens: 152\n",
      "Total tokens: 1129\n"
     ]
    },
    {
     "name": "stderr",
     "output_type": "stream",
     "text": [
      "2025-03-06 11:08:14.120 Thread 'MainThread': missing ScriptRunContext! This warning can be ignored when running in bare mode.\n",
      "2025-03-06 11:08:14.121 Thread 'MainThread': missing ScriptRunContext! This warning can be ignored when running in bare mode.\n",
      "2025-03-06 11:08:14.122 Thread 'MainThread': missing ScriptRunContext! This warning can be ignored when running in bare mode.\n",
      "2025-03-06 11:08:14.135 Thread 'MainThread': missing ScriptRunContext! This warning can be ignored when running in bare mode.\n",
      "2025-03-06 11:08:14.137 Thread 'MainThread': missing ScriptRunContext! This warning can be ignored when running in bare mode.\n"
     ]
    },
    {
     "data": {
      "text/markdown": [
       "this sucks"
      ],
      "text/plain": [
       "<IPython.core.display.Markdown object>"
      ]
     },
     "metadata": {},
     "output_type": "display_data"
    },
    {
     "data": {
      "text/markdown": [
       " - I'll embody Little Plains as a NYC-based branding and experience design studio with a direct yet warm conversational style. I'll draw on our expertise in design, tech, and branding while keeping discussions natural and engaging.\n",
       "\n",
       "I'll represent our studio's dedication to creating meaningful digital experiences through empathy, anticipation, and simplicity. I'll speak with the informed confidence of a design professional while maintaining an approachable, collaborative tone that builds on others' ideas.\n",
       "\n",
       "I'm ready to engage in conversations about our work with clients like Camber, Sweetgreen, and Hims & Hers, our range of services from branding to AI integration, or wherever the discussion naturally leads. I'll aim to be helpful while avoiding corporate-speak, keeping it real like a true New Yorker.\n",
       "\n",
       "Would you like to discuss anything specific about Little Plains or shall we see where the conversation takes us?"
      ],
      "text/plain": [
       "<IPython.core.display.Markdown object>"
      ]
     },
     "metadata": {},
     "output_type": "display_data"
    },
    {
     "name": "stdout",
     "output_type": "stream",
     "text": [
      "\n",
      "--- Usage Statistics ---\n",
      "Input tokens: 977\n",
      "Output tokens: 195\n",
      "Total tokens: 1172\n",
      "Writing JSON output to: ../data/evaluation/results/projects_evaluation_results.json\n",
      "Successfully wrote output to ../data/evaluation/results/projects_evaluation_results.json\n",
      "Writing Markdown output to: ../data/evaluation/results/projects_evaluation_results.md\n",
      "Successfully wrote Markdown output to ../data/evaluation/results/projects_evaluation_results.md\n"
     ]
    }
   ],
   "source": [
    "# Process Questions\n",
    "import os\n",
    "import warnings\n",
    "import logging\n",
    "\n",
    "# Suppress logs from Streamlit\n",
    "logging.getLogger(\"streamlit\").setLevel(logging.ERROR)\n",
    "logging.getLogger(\"streamlit.runtime.scriptrunner\").setLevel(logging.ERROR)\n",
    "\n",
    "# Suppress Streamlit's CLI errors\n",
    "#os.environ[\"STREAMLIT_SUPPRESS_ERRORS\"] = \"true\"\n",
    "warnings.filterwarnings(\"ignore\", message=\"missing ScriptRunContext\")\n",
    "warnings.filterwarnings(\"ignore\", category=UserWarning, module=\"streamlit\")\n",
    "\n",
    "    \n",
    "async def generate_response(message, filter):\n",
    "    response = await chatbot.process_eval_input(message, filter)\n",
    "\n",
    "    \n",
    "    return response\n",
    "\n",
    "async def process_questions(input_file, output_file, token_limit=40000):\n",
    "    with open(input_file, 'r', encoding='utf-8') as f:\n",
    "        questions = json.load(f)\n",
    "\n",
    "\n",
    "    # Create markdown output filename from the json output filename\n",
    "    markdown_output_file = output_file.replace('.json', '.md')\n",
    "    if markdown_output_file == output_file:\n",
    "        markdown_output_file = output_file + '.md'\n",
    "\n",
    "    input_token_count = 0\n",
    "    last_reset_time = time.time()\n",
    "    processed_questions = []\n",
    "\n",
    "    eval_metadata = {\n",
    "        \"index\": INDEX,\n",
    "        \"model\": MODEL,\n",
    "        \"identity\": IDENTITY,\n",
    "        \"timestamp\": datetime.now(timezone.utc).isoformat(),\n",
    "        \"static_context\": STATIC_GREETINGS_AND_GENERAL,\n",
    "        \"max_tokens\": MAX_TOKENS,\n",
    "        \"search_k\": SEARCH_K\n",
    "    }\n",
    "\n",
    "    # DEF_CHUNK_SIZE\n",
    "    # DEF_CHUNK_OVERLAP\n",
    "\n",
    "    print(eval_metadata)\n",
    "    filter = {\n",
    "        \"subjects\": None,\n",
    "        \"priority\": {\"$gte\": 0.3}\n",
    "    }\n",
    "\n",
    "    # Start building markdown content\n",
    "    markdown_content = f\"# Evaluation Transcript\\n\\n\"\n",
    "    markdown_content += f\"## Metadata\\n\\n\"\n",
    "    markdown_content += f\"- **Model**: {eval_metadata['model']}\\n\"\n",
    "    markdown_content += f\"- **Index**: {eval_metadata['index']}\\n\"\n",
    "    markdown_content += f\"- **Identity**:\\n\\n {eval_metadata['identity']}\\n\\n\"\n",
    "    markdown_content += f\"- **Static Context**:\\n\\n {eval_metadata['static_context']}\\n\\n\"\n",
    "    markdown_content += f\"- **Timestamp**: {eval_metadata['timestamp']}\\n\"\n",
    "    markdown_content += f\"- **Max Tokens**: {eval_metadata['max_tokens']}\\n\"\n",
    "    markdown_content += f\"- **Search K**: {eval_metadata['search_k']}\\n\\n\"\n",
    "    markdown_content += f\"## Questions and Answers\\n\\n\"\n",
    "\n",
    "    for question in questions:\n",
    "        current_time = time.time()\n",
    "        elapsed_time = current_time - last_reset_time\n",
    "        \n",
    "        if elapsed_time >= 60:\n",
    "            input_token_count = 0\n",
    "            last_reset_time = current_time\n",
    "\n",
    "        if input_token_count > token_limit * 0.8:  # 80% of limit as safety margin\n",
    "            sleep_time = 60 - elapsed_time\n",
    "            print(f\"Approaching rate limit, sleeping for {sleep_time:.1f} seconds...\")\n",
    "            time.sleep(max(1, sleep_time))\n",
    "            input_token_count = 0\n",
    "            last_reset_time = time.time()\n",
    "        \n",
    "        try:\n",
    "            response = await generate_response(question[\"question\"], filter)\n",
    "            \n",
    "            # Safely extract token usage\n",
    "            input_tokens = 0\n",
    "            output_tokens = 0\n",
    "            \n",
    "            # Handle different response formats\n",
    "            if hasattr(response, 'usage'):\n",
    "                # Object with usage attribute\n",
    "                if hasattr(response.usage, 'input_tokens'):\n",
    "                    input_tokens = response.usage.input_tokens\n",
    "                if hasattr(response.usage, 'output_tokens'):\n",
    "                    output_tokens = response.usage.output_tokens\n",
    "            elif isinstance(response, dict):\n",
    "                # Dictionary response\n",
    "                if 'usage' in response:\n",
    "                    usage = response['usage']\n",
    "                    if isinstance(usage, dict):\n",
    "                        input_tokens = usage.get('input_tokens', 0)\n",
    "                        output_tokens = usage.get('output_tokens', 0)\n",
    "            else:\n",
    "                print(\"Weird response is missing usage\")\n",
    "                print(response)\n",
    "            \n",
    "            answer = response.content[0].text\n",
    "            question_data = {\n",
    "                \"question\": question[\"question\"],\n",
    "                \"answer\": answer,\n",
    "                \"filter\": filter,\n",
    "                \"metadata\": {\n",
    "                    \"input_tokens\": input_tokens,\n",
    "                    \"output_tokens\": output_tokens,\n",
    "                    \"total_tokens\": input_tokens + output_tokens\n",
    "                }\n",
    "            \n",
    "            }\n",
    "            \n",
    "            processed_questions.append(question_data)\n",
    "            display(Markdown(question[\"question\"]))\n",
    "            display_claude_response(response)\n",
    "            input_token_count += input_tokens\n",
    "\n",
    "            # Add to markdown content\n",
    "            markdown_content += f\"**Question:**\\n\\n{question['question']}\\n\\n\"\n",
    "            markdown_content += f\"**Answer:**\\n\\n{answer}\\n\\n\"\n",
    "            markdown_content += \"---\\n\\n\"\n",
    "            \n",
    "        except Exception as e:\n",
    "            if \"rate_limit_error\" in str(e):\n",
    "                # If we hit a rate limit anyway, implement backoff\n",
    "                print(\"Rate limit exceeded despite tracking. Waiting 60 seconds...\")\n",
    "                time.sleep(60)\n",
    "                input_token_count = 0\n",
    "                last_reset_time = time.time()\n",
    "            else:\n",
    "                # Handle other errors\n",
    "                print(f\"Error processing question: {str(e)}\")\n",
    "        \n",
    "        # Add a small delay between requests to avoid bursts\n",
    "        time.sleep(2)\n",
    "\n",
    "    output = {\n",
    "        \"eval_metadata\": eval_metadata,\n",
    "        \"processed_questions\": processed_questions\n",
    "    }\n",
    "\n",
    "    # Add summary statistics to markdown\n",
    "    total_input_tokens = sum(q['metadata']['input_tokens'] for q in processed_questions)\n",
    "    total_output_tokens = sum(q['metadata']['output_tokens'] for q in processed_questions)\n",
    "    total_tokens = total_input_tokens + total_output_tokens\n",
    "\n",
    "    markdown_content += f\"## Summary Statistics\\n\\n\"\n",
    "    markdown_content += f\"- **Total Questions**: {len(processed_questions)}\\n\"\n",
    "    markdown_content += f\"- **Total Input Tokens**: {total_input_tokens}\\n\"\n",
    "    markdown_content += f\"- **Total Output Tokens**: {total_output_tokens}\\n\"\n",
    "    markdown_content += f\"- **Total Tokens**: {total_tokens}\\n\"\n",
    "\n",
    "    \n",
    "    print(f\"Writing JSON output to: {output_file}\")\n",
    "    try:\n",
    "        with open(output_file, 'w', encoding='utf-8') as f:\n",
    "            json.dump(output, f, indent=4)\n",
    "        print(f\"Successfully wrote output to {output_file}\")\n",
    "    except Exception as e:\n",
    "        print(f\"Error writing file: {e}\")\n",
    "\n",
    "    # Write Markdown file\n",
    "    print(f\"Writing Markdown output to: {markdown_output_file}\")\n",
    "    try:\n",
    "        with open(markdown_output_file, 'w', encoding='utf-8') as f:\n",
    "            f.write(markdown_content)\n",
    "        print(f\"Successfully wrote Markdown output to {markdown_output_file}\")\n",
    "    except Exception as e:\n",
    "        print(f\"Error writing Markdown file: {e}\")\n",
    "\n",
    "\n",
    "eval_results_file = '../data/evaluation/results/projects_evaluation_results.json'\n",
    "await process_questions(eval_data_file, eval_results_file)\n",
    "\n"
   ]
  },
  {
   "cell_type": "code",
   "execution_count": null,
   "id": "0981852f-3db5-4fb6-8880-af2cc333bce5",
   "metadata": {},
   "outputs": [],
   "source": []
  }
 ],
 "metadata": {
  "kernelspec": {
   "display_name": "Python 3 (ipykernel)",
   "language": "python",
   "name": "python3"
  },
  "language_info": {
   "codemirror_mode": {
    "name": "ipython",
    "version": 3
   },
   "file_extension": ".py",
   "mimetype": "text/x-python",
   "name": "python",
   "nbconvert_exporter": "python",
   "pygments_lexer": "ipython3",
   "version": "3.13.0"
  }
 },
 "nbformat": 4,
 "nbformat_minor": 5
}
