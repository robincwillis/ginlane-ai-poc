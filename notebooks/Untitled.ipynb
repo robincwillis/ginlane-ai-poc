{
 "cells": [
  {
   "cell_type": "code",
   "execution_count": 24,
   "id": "65d672c5-d4ab-4d66-acb8-f012b6a0f4ed",
   "metadata": {},
   "outputs": [
    {
     "name": "stderr",
     "output_type": "stream",
     "text": [
      "2025-02-27 12:43:26.827 Thread 'MainThread': missing ScriptRunContext! This warning can be ignored when running in bare mode.\n",
      "2025-02-27 12:43:26.830 Thread 'MainThread': missing ScriptRunContext! This warning can be ignored when running in bare mode.\n",
      "2025-02-27 12:43:26.836 Thread 'MainThread': missing ScriptRunContext! This warning can be ignored when running in bare mode.\n",
      "2025-02-27 12:43:26.838 Thread 'MainThread': missing ScriptRunContext! This warning can be ignored when running in bare mode.\n"
     ]
    },
    {
     "name": "stdout",
     "output_type": "stream",
     "text": [
      "bar\n"
     ]
    }
   ],
   "source": [
    "# Try and supress streamlit warnings\n",
    "import os\n",
    "import warnings\n",
    "import logging\n",
    "\n",
    "import streamlit as st\n",
    "\n",
    "# More aggressively filter the specific warning message\n",
    "import streamlit.runtime\n",
    "streamlit.runtime.warn_if_script_run_context_missing = lambda: None\n",
    "\n",
    "import streamlit.runtime.scriptrunner\n",
    "streamlit.runtime.scriptrunner.warn_missing_script_run_context = lambda: None\n",
    "\n",
    "\n",
    "# Suppress logs from Streamlit\n",
    "logging.getLogger(\"streamlit\").setLevel(logging.ERROR)\n",
    "\n",
    "\n",
    "# Suppress Streamlit's CLI errors\n",
    "#os.environ[\"STREAMLIT_SUPPRESS_ERRORS\"] = \"true\"\n",
    "warnings.filterwarnings(\"ignore\", message=\"missing ScriptRunContext\")\n",
    "warnings.filterwarnings(\"ignore\", category=UserWarning, module=\"streamlit\")\n",
    "\n",
    "st.write('foo')\n",
    "print('bar')\n",
    "\n",
    "\n",
    "\n",
    "# 2025-02-27 11:56:19.540 Thread 'MainThread': missing ScriptRunContext! This warning can be ignored when running in bare mode.\n",
    "\n",
    "\n"
   ]
  }
 ],
 "metadata": {
  "kernelspec": {
   "display_name": "Python 3 (ipykernel)",
   "language": "python",
   "name": "python3"
  },
  "language_info": {
   "codemirror_mode": {
    "name": "ipython",
    "version": 3
   },
   "file_extension": ".py",
   "mimetype": "text/x-python",
   "name": "python",
   "nbconvert_exporter": "python",
   "pygments_lexer": "ipython3",
   "version": "3.13.0"
  }
 },
 "nbformat": 4,
 "nbformat_minor": 5
}
